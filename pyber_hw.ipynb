{
 "cells": [
  {
   "cell_type": "code",
   "execution_count": 5,
   "metadata": {},
   "outputs": [
    {
     "data": {
      "text/html": [
       "<div>\n",
       "<style scoped>\n",
       "    .dataframe tbody tr th:only-of-type {\n",
       "        vertical-align: middle;\n",
       "    }\n",
       "\n",
       "    .dataframe tbody tr th {\n",
       "        vertical-align: top;\n",
       "    }\n",
       "\n",
       "    .dataframe thead th {\n",
       "        text-align: right;\n",
       "    }\n",
       "</style>\n",
       "<table border=\"1\" class=\"dataframe\">\n",
       "  <thead>\n",
       "    <tr style=\"text-align: right;\">\n",
       "      <th></th>\n",
       "      <th>city</th>\n",
       "      <th>date</th>\n",
       "      <th>fare</th>\n",
       "      <th>ride_id</th>\n",
       "      <th>driver_count</th>\n",
       "      <th>type</th>\n",
       "    </tr>\n",
       "  </thead>\n",
       "  <tbody>\n",
       "    <tr>\n",
       "      <th>0</th>\n",
       "      <td>Richardfort</td>\n",
       "      <td>2018-02-24 08:40:38</td>\n",
       "      <td>13.93</td>\n",
       "      <td>5628545007794</td>\n",
       "      <td>38</td>\n",
       "      <td>Urban</td>\n",
       "    </tr>\n",
       "    <tr>\n",
       "      <th>1</th>\n",
       "      <td>Richardfort</td>\n",
       "      <td>2018-02-13 12:46:07</td>\n",
       "      <td>14.00</td>\n",
       "      <td>910050116494</td>\n",
       "      <td>38</td>\n",
       "      <td>Urban</td>\n",
       "    </tr>\n",
       "    <tr>\n",
       "      <th>2</th>\n",
       "      <td>Richardfort</td>\n",
       "      <td>2018-02-16 13:52:19</td>\n",
       "      <td>17.92</td>\n",
       "      <td>820639054416</td>\n",
       "      <td>38</td>\n",
       "      <td>Urban</td>\n",
       "    </tr>\n",
       "    <tr>\n",
       "      <th>3</th>\n",
       "      <td>Richardfort</td>\n",
       "      <td>2018-02-01 20:18:28</td>\n",
       "      <td>10.26</td>\n",
       "      <td>9554935945413</td>\n",
       "      <td>38</td>\n",
       "      <td>Urban</td>\n",
       "    </tr>\n",
       "    <tr>\n",
       "      <th>4</th>\n",
       "      <td>Richardfort</td>\n",
       "      <td>2018-04-17 02:26:37</td>\n",
       "      <td>23.00</td>\n",
       "      <td>720020655850</td>\n",
       "      <td>38</td>\n",
       "      <td>Urban</td>\n",
       "    </tr>\n",
       "  </tbody>\n",
       "</table>\n",
       "</div>"
      ],
      "text/plain": [
       "          city                 date   fare        ride_id  driver_count   type\n",
       "0  Richardfort  2018-02-24 08:40:38  13.93  5628545007794            38  Urban\n",
       "1  Richardfort  2018-02-13 12:46:07  14.00   910050116494            38  Urban\n",
       "2  Richardfort  2018-02-16 13:52:19  17.92   820639054416            38  Urban\n",
       "3  Richardfort  2018-02-01 20:18:28  10.26  9554935945413            38  Urban\n",
       "4  Richardfort  2018-04-17 02:26:37  23.00   720020655850            38  Urban"
      ]
     },
     "execution_count": 5,
     "metadata": {},
     "output_type": "execute_result"
    }
   ],
   "source": [
    "%matplotlib inline\n",
    "# Dependencies and Setup\n",
    "import matplotlib.pyplot as plt\n",
    "import pandas as pd\n",
    "import numpy as np\n",
    "\n",
    "# File to Load (Remember to change these)\n",
    "city_data_to_load = \"data/city_data.csv\"\n",
    "ride_data_to_load = \"data/ride_data.csv\"\n",
    "\n",
    "# Read the City and Ride Data\n",
    "city_data = pd.read_csv(city_data_to_load)\n",
    "ride_data = pd.read_csv(ride_data_to_load)\n",
    "\n",
    "# Combine the data into a single dataset\n",
    "df = pd.merge(city_data, ride_data)\n",
    "\n",
    "# Display the data table for preview\n",
    "df = df[[\"city\", \"date\", \"fare\", \"ride_id\", \"driver_count\", \"type\"]]\n",
    "df.head()"
   ]
  },
  {
   "cell_type": "markdown",
   "metadata": {},
   "source": [
    "## Bubble Plot of Ride Sharing Data"
   ]
  },
  {
   "cell_type": "code",
   "execution_count": 12,
   "metadata": {},
   "outputs": [
    {
     "ename": "SyntaxError",
     "evalue": "invalid syntax (<ipython-input-12-f362bc53c689>, line 34)",
     "output_type": "error",
     "traceback": [
      "\u001b[1;36m  File \u001b[1;32m\"<ipython-input-12-f362bc53c689>\"\u001b[1;36m, line \u001b[1;32m34\u001b[0m\n\u001b[1;33m    plt.legend([fontsize=20, fontsize=20, fontsize=20])\u001b[0m\n\u001b[1;37m                        ^\u001b[0m\n\u001b[1;31mSyntaxError\u001b[0m\u001b[1;31m:\u001b[0m invalid syntax\n"
     ]
    }
   ],
   "source": [
    "# Obtain the x and y coordinates for each of the three city types\n",
    "\n",
    "#   use groupby, mean, & count to find needed values\n",
    "grouped_df = df.groupby([\"type\", \"city\"])\n",
    "avg_fare = grouped_df.mean()\n",
    "avg_fare[\"fare\"]\n",
    "total_rides = grouped_df.count()\n",
    "total_rides[\"ride_id\"]\n",
    "driver_count = df[[\"city\", \"driver_count\", \"type\"]].drop_duplicates().set_index([\"type\",\"city\"])\n",
    "\n",
    "#   merge data frames with needed values together to have one data frame\n",
    "scatter_data = pd.merge(avg_fare, total_rides, on=[\"type\", \"city\"])\n",
    "scatter_data = scatter_data[[\"fare_x\", \"ride_id_y\"]]\n",
    "scatter_data = scatter_data.rename(columns = {\"fare_x\": \"Average Fare\", \"ride_id_y\": \"Total Rides\"})\n",
    "scatter_data = pd.merge(scatter_data, driver_count, on=[\"type\", \"city\"])\n",
    "\n",
    "#   separate the data by city type\n",
    "rural = scatter_data.loc[\"Rural\",:]\n",
    "urban = scatter_data.loc[\"Urban\", :]\n",
    "suburban = scatter_data.loc[\"Suburban\", :]\n",
    "\n",
    "# Build the scatter plots for each city types\n",
    "plt.scatter(rural[\"Total Rides\"], rural[\"Average Fare\"], marker=\"o\", facecolor=\"gold\", edgecolor=\"black\", s=(8*rural))\n",
    "plt.scatter(urban[\"Total Rides\"], urban[\"Average Fare\"], marker=\"o\", facecolor=\"lightcoral\", edgecolor=\"black\", s=(8*urban))\n",
    "plt.scatter(suburban[\"Total Rides\"], suburban[\"Average Fare\"], marker=\"o\", facecolor=\"skyblue\", edgecolor=\"black\", s=(8*suburban))\n",
    "\n",
    "# Incorporate the other graph properties\n",
    "plt.grid()\n",
    "plt.xlabel(\"Total Number of Rides (per city)\")\n",
    "plt.ylabel(\"Average Fare ($)\")\n",
    "plt.title(\"Pyber Ride Sharing Data (2016)\")\n",
    "\n",
    "# Create a legend\n",
    "plt.legend([\"Rural\", \"Urban\", \"Suburban\"])\n",
    "# Incorporate a text label regarding circle size\n",
    "plt.annotate(\"Note: Circle sizes correlate to driver count per city\", xy=(0,5))\n",
    "# Save Figure\n",
    "plt.savefig(\"../Pyber_saved_figure/pyber.png\")"
   ]
  },
  {
   "cell_type": "code",
   "execution_count": null,
   "metadata": {},
   "outputs": [],
   "source": [
    "# Show plot\n",
    "plt.show()"
   ]
  },
  {
   "cell_type": "markdown",
   "metadata": {},
   "source": [
    "## Total Fares by City Type"
   ]
  },
  {
   "cell_type": "code",
   "execution_count": 114,
   "metadata": {},
   "outputs": [
    {
     "data": {
      "image/png": "[encoded data removed]",
      "text/plain": [
       "<Figure size 432x288 with 1 Axes>"
      ]
     },
     "metadata": {},
     "output_type": "display_data"
    }
   ],
   "source": [
    "# Calculate Type Percents\n",
    "total_fare = df.groupby(\"type\").sum()\n",
    "\n",
    "city_types = [\"Rural\", \"Suburban\", \"Urban\"]\n",
    "fare_percent = []\n",
    "\n",
    "for city_types in city_types:\n",
    "    fare_percent.append((total_fare.loc[city_types,\"fare\"] / total_fare[\"fare\"].sum()) * 100)\n",
    "\n",
    "\n",
    "explode = (0, 0, 0.1)\n",
    "labels = [\"Rural\", \"Suburban\", \"Urban\"]\n",
    "colors = [\"Gold\", \"Skyblue\", \"lightcoral\"]\n",
    "\n",
    "# Build Pie Chart\n",
    "plt.pie(fare_percent, explode=explode, labels=labels, colors=colors, \n",
    "        autopct=\"%1.1f%%\", shadow=True, startangle=140)\n",
    "plt.title(\"% of Total Rides by City Type\")\n",
    "\n",
    "# Save Figure\n",
    "plt.savefig(\"../Pyber_saved_figure/pyber_fares.png\")"
   ]
  },
  {
   "cell_type": "code",
   "execution_count": 24,
   "metadata": {},
   "outputs": [],
   "source": [
    "# Show Figure\n",
    "plt.show()"
   ]
  },
  {
   "cell_type": "markdown",
   "metadata": {},
   "source": [
    "## Total Rides by City Type"
   ]
  },
  {
   "cell_type": "code",
   "execution_count": 110,
   "metadata": {},
   "outputs": [
    {
     "data": {
      "image/png": "[encoded data removed]",
      "text/plain": [
       "<Figure size 432x288 with 1 Axes>"
      ]
     },
     "metadata": {},
     "output_type": "display_data"
    }
   ],
   "source": [
    "# Calculate Ride Percents\n",
    "total_rides = df.groupby(\"type\").count()\n",
    "\n",
    "city_types = [\"Rural\", \"Suburban\", \"Urban\"]\n",
    "rides_percent = []\n",
    "\n",
    "for city_types in city_types:\n",
    "    rides_percent.append((total_rides.loc[city_types, \"city\"] / total_rides[\"city\"].sum()) * 100)\n",
    "\n",
    "# Build Pie Chart\n",
    "plt.pie(rides_percent, explode=explode, labels=labels, colors=colors, \n",
    "        autopct=\"%1.1f%%\", shadow=True, startangle=140)\n",
    "plt.title(\"% of Total Rides by City Type\")\n",
    "\n",
    "# Save Figure\n",
    "plt.savefig(\"../Pyber_saved_figure/pyber_rides\")"
   ]
  },
  {
   "cell_type": "code",
   "execution_count": 38,
   "metadata": {},
   "outputs": [],
   "source": [
    "# Show Figure\n",
    "plt.show()"
   ]
  },
  {
   "cell_type": "markdown",
   "metadata": {},
   "source": [
    "## Total Drivers by City Type"
   ]
  },
  {
   "cell_type": "code",
   "execution_count": 112,
   "metadata": {},
   "outputs": [
    {
     "data": {
      "image/png": "[encoded data removed]",
      "text/plain": [
       "<Figure size 432x288 with 1 Axes>"
      ]
     },
     "metadata": {},
     "output_type": "display_data"
    }
   ],
   "source": [
    "# Calculate Driver Percents\n",
    "driver_data = driver_count.reset_index(\"city\")\n",
    "\n",
    "city_types = [\"Rural\", \"Suburban\", \"Urban\"]\n",
    "driver_percents = []\n",
    "\n",
    "for city_types in city_types:\n",
    "    driver_percents.append((driver_data.loc[city_types, \"driver_count\"].sum() / driver_data.loc[:, \"driver_count\"].sum()) * 100)\n",
    "\n",
    "\n",
    "# Build Pie Charts\n",
    "plt.pie(driver_percents, explode=explode, labels=labels, colors=colors, \n",
    "        autopct=\"%1.1f%%\", shadow=True, startangle=140)\n",
    "plt.title(\"% of Drivers by City Type\")\n",
    "# Save Figure\n",
    "plt.savefig(\"../Pyber_saved_figure/pyber_drivers\")"
   ]
  },
  {
   "cell_type": "code",
   "execution_count": 100,
   "metadata": {
    "scrolled": true
   },
   "outputs": [],
   "source": [
    "# Show Figure\n",
    "plt.show()"
   ]
  },
  {
   "cell_type": "code",
   "execution_count": null,
   "metadata": {},
   "outputs": [],
   "source": []
  }
 ],
 "metadata": {
  "anaconda-cloud": {},
  "kernelspec": {
   "display_name": "Python 3",
   "language": "python",
   "name": "python3"
  },
  "language_info": {
   "codemirror_mode": {
    "name": "ipython",
    "version": 3
   },
   "file_extension": ".py",
   "mimetype": "text/x-python",
   "name": "python",
   "nbconvert_exporter": "python",
   "pygments_lexer": "ipython3",
   "version": "3.7.3"
  }
 },
 "nbformat": 4,
 "nbformat_minor": 2
}
